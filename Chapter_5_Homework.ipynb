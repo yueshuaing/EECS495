{
 "cells": [
  {
   "cell_type": "markdown",
   "metadata": {},
   "source": [
    "# 5_7"
   ]
  },
  {
   "cell_type": "code",
   "execution_count": 1,
   "metadata": {
    "collapsed": true
   },
   "outputs": [],
   "source": [
    "# This file is associated with the book\n",
    "# \"Machine Learning Refined\", Cambridge University Press, 2016.\n",
    "# by Jeremy Watt, Reza Borhani, and Aggelos Katsaggelos.\n",
    "\n",
    "import numpy as np\n",
    "import numpy.matlib\n",
    "import matplotlib.pyplot as plt\n",
    "from __future__ import division\n",
    "import pylab"
   ]
  },
  {
   "cell_type": "markdown",
   "metadata": {},
   "source": [
    "First a simple data loading function."
   ]
  },
  {
   "cell_type": "code",
   "execution_count": 2,
   "metadata": {
    "collapsed": true
   },
   "outputs": [],
   "source": [
    "# load data\n",
    "def load_data():\n",
    "    data = np.array(np.genfromtxt('noisy_sin_samples.csv', delimiter=','))\n",
    "    x = np.reshape(data[:,0],(np.size(data[:,0]),1))\n",
    "    y = np.reshape(data[:,1],(np.size(data[:,1]),1))\n",
    "    return x,y"
   ]
  },
  {
   "cell_type": "markdown",
   "metadata": {},
   "source": [
    "Now we need a function to transform input features into Fourier features."
   ]
  },
  {
   "cell_type": "code",
   "execution_count": 3,
   "metadata": {
    "collapsed": false
   },
   "outputs": [],
   "source": [
    "#YOUR CODE GOES HERE takes poly features of the input \n",
    "\n",
    "def poly_features(x,D):\n",
    "    F = []\n",
    "\n",
    "    for i in x:\n",
    "        f_col = []\n",
    "        for j in range(1 , D + 1):\n",
    "            f_col.append(i ** j)\n",
    "        F.append(f_col)\n",
    "    F = np.array(F)\n",
    "    F.shape = (len(x),D)\n",
    "    F = F.T\n",
    "    \n",
    "    return F\n"
   ]
  },
  {
   "cell_type": "markdown",
   "metadata": {},
   "source": [
    "Now we need a variety of plotting functions - to plot our datapoints, polynomial models, and errors."
   ]
  },
  {
   "cell_type": "code",
   "execution_count": 4,
   "metadata": {
    "collapsed": false
   },
   "outputs": [],
   "source": [
    "# plot the polynomial  \n",
    "def plot_model(w,D):\n",
    "    # plot determined surface in 3d space\n",
    "    s = np.arange(0,1,.01)\n",
    "    f = poly_features(s,D)\n",
    "    z = np.dot(f.T,w)\n",
    "\n",
    "    # plot contour in original space\n",
    "    plt.plot(s,z, color = 'r', linewidth = 2)\n",
    "    plt.ylim([-1.5,1.5])\n",
    "    plt.xlim([0,1])\n",
    "\n",
    "# plot mse's over all D tested \n",
    "def plot_mse(mses,deg):\n",
    "    plt.plot(np.arange(1,np.size(mses)+1),mses,'ro--')\n",
    "    plt.title('MSE on entire dataset in D', fontsize=18)\n",
    "    plt.xlabel('degree D', fontsize=18)\n",
    "    plt.ylabel('MSE       ', fontsize=18)\n",
    "\n",
    "# plot data \n",
    "def plot_data(x,y,deg):\n",
    "    for i in np.arange(1,7):\n",
    "        plt.subplot(2,3,i)\n",
    "        plt.scatter(x,y,s = 30, color = 'k')\n",
    "\n",
    "        # graph info labels\n",
    "        s = 'D = ' + str(deg[i-1])\n",
    "        plt.title(s, fontsize=15)\n",
    "        plt.axis('off')"
   ]
  },
  {
   "cell_type": "markdown",
   "metadata": {},
   "source": [
    "Now, a function to loop through the degrees we wish to test and trains a model for each, plotting the resulting fit to the dataset and error."
   ]
  },
  {
   "cell_type": "code",
   "execution_count": 5,
   "metadata": {
    "collapsed": true
   },
   "outputs": [],
   "source": [
    "# run over all the degrees, fit each models, and calculate errors\n",
    "def try_all_degs(x,y,deg_range):\n",
    "    # plot datapoints - one panel for each deg in deg_range\n",
    "    fig = plt.figure(figsize = (8,4))\n",
    "    plot_data(x,y,deg_range)\n",
    "\n",
    "    # generate nonlinear features\n",
    "    mses = []\n",
    "\n",
    "    for D in np.arange(0,np.size(deg_range)):\n",
    "        # generate poly feature transformation\n",
    "        F = poly_features(x,deg_range[D])\n",
    "        # get weights for current model\n",
    "        temp = np.linalg.pinv(np.dot(F,F.T))\n",
    "        w = np.dot(np.dot(temp,F),y)\n",
    "        MSE = np.linalg.norm(np.dot(F.T,w)-y)/np.size(y)\n",
    "        mses.append(MSE)\n",
    "\n",
    "        # plot fit to data\n",
    "        plt.subplot(2,3,D+1)\n",
    "        plot_model(w,deg_range[D])\n",
    "\n",
    "    # make plot of mse's\n",
    "    fig = plt.figure(figsize = (5,5))\n",
    "    plot_mse(mses,deg_range)\n",
    "    plt.show()"
   ]
  },
  {
   "cell_type": "markdown",
   "metadata": {},
   "source": [
    "Now that everything is defined, lets run all."
   ]
  },
  {
   "cell_type": "code",
   "execution_count": 6,
   "metadata": {
    "collapsed": false,
    "scrolled": false
   },
   "outputs": [
    {
     "name": "stderr",
     "output_type": "stream",
     "text": [
      "/Library/Python/2.7/site-packages/matplotlib/cbook/deprecation.py:107: MatplotlibDeprecationWarning: Adding an axes using the same arguments as a previous axes currently reuses the earlier instance.  In a future version, a new instance will always be created and returned.  Meanwhile, this warning can be suppressed, and the future behavior ensured, by passing a unique label to each axes instance.\n",
      "  warnings.warn(message, mplDeprecation, stacklevel=1)\n"
     ]
    },
    {
     "data": {
      "image/png": "[encoded data removed]",
      "text/plain": [
       "<Figure size 576x288 with 6 Axes>"
      ]
     },
     "metadata": {},
     "output_type": "display_data"
    },
    {
     "data": {
      "image/png": "[encoded data removed]",
      "text/plain": [
       "<Figure size 360x360 with 1 Axes>"
      ]
     },
     "metadata": {},
     "output_type": "display_data"
    }
   ],
   "source": [
    "# load data and defined degree range\n",
    "x, y = load_data()\n",
    "deg_range = [1,3,5,7,15,20]           # degree polys to try\n",
    "\n",
    "# run all over degree range\n",
    "try_all_degs(x,y,deg_range)"
   ]
  },
  {
   "cell_type": "markdown",
   "metadata": {},
   "source": [
    "# 5_11"
   ]
  },
  {
   "cell_type": "code",
   "execution_count": 7,
   "metadata": {
    "collapsed": false
   },
   "outputs": [],
   "source": [
    "import numpy as np\n",
    "import matplotlib.pyplot as plt\n",
    "import csv\n",
    "\n",
    "def read_data(filename):\n",
    "    '''\n",
    "    Read data from csvfile\n",
    "    Parameters:\n",
    "    ----------------------------------------------------\n",
    "    filename: path to data file\n",
    "    Returns:\n",
    "    ----------------------------------------------------\n",
    "    X: ndarray of shape (1, P)\n",
    "    y: ndarray of shape (P, 1)\n",
    "\n",
    "    Hints:\n",
    "    ----------------------------------------------------\n",
    "    Make sure the shapes of X, y conform to above. You may\n",
    "    find \"np.genfromtxt(, delimiter=','), np.newaxis\" useful\n",
    "    '''\n",
    "    ####################################################\n",
    "    ###                  Your Code                   ###\n",
    "    ####################################################\n",
    "    reader = csv.reader(open(filename, \"r\"), delimiter = \",\")\n",
    "    d = list(reader)\n",
    "    data = np.array(d).astype(\"float\")\n",
    "    X = data[:,0];\n",
    "    y = data[:,1];\n",
    "    X.shape = (1, len(X))\n",
    "    y.shape = (len(y), 1)\n",
    "    ####################################################\n",
    "    ###                    End                       ###\n",
    "    ####################################################\n",
    "    assert X.shape == (1, data[:, 0].size), \"Shape of X incorrect\"\n",
    "    assert y.shape == (data[:,-1].size, 1), \"Shape of y incorrect\"\n",
    "    return X, y\n",
    "\n",
    "def fourier_basis(X, D):\n",
    "    '''\n",
    "    Return Fourier basis for X (with ONE bias dimension)\n",
    "    Parameters:\n",
    "    ----------------------------------------------------\n",
    "    X: data ndarray of shape (1, P)\n",
    "    D: degree of Fourier basis features\n",
    "    Returns:\n",
    "    ----------------------------------------------------\n",
    "    F: ndarray of shape (2D+1, P)\n",
    "\n",
    "    Hints:\n",
    "    ----------------------------------------------------\n",
    "    Make sure the shapes of F conform to above. You may\n",
    "    find \"np.arange, np.reshape, np.concatenate(, axis=0),\n",
    "    np.ones, np.cos, np.sin\"  useful\n",
    "    '''\t\n",
    "    ####################################################\n",
    "    ###                  Your Code                   ###\n",
    "    ####################################################\n",
    "    f = np.ones((1, X.size))\n",
    "    m = np.arange(1, D + 1).reshape(D, 1)\n",
    "    w = 2 * np.pi * np.dot(m, X) \n",
    "    F_1 = np.cos(w)\n",
    "    F_2 = np.sin(w)\n",
    "\n",
    "    F = np.concatenate((f, F_1, F_2), axis = 0)\n",
    "    ####################################################\n",
    "    ###                    End                       ###\n",
    "    ####################################################\n",
    "    assert F.shape == (2*D+1, X.size), \"Shape of F incorrect\"\n",
    "    return F\n",
    "\n",
    "def poly_basis(X, D):\n",
    "    '''\n",
    "    Return polynomial basis for X (with ONE bias dimension)\n",
    "    Parameters:\n",
    "    ----------------------------------------------------\n",
    "    X: data ndarray of shape (1, P)\n",
    "    D: degree of Fourier basis features\n",
    "    Returns:\n",
    "    ----------------------------------------------------\n",
    "    F: ndarray of shape (D+1, P)\n",
    "\n",
    "    Hints:\n",
    "    ----------------------------------------------------\n",
    "    Make sure the shapes of F conform to above. You may\n",
    "    find \"np.arange, np.reshape, np.power\"  useful\n",
    "    '''\t\n",
    "    ####################################################\n",
    "    ###                  Your Code                   ###\n",
    "    ####################################################\n",
    "    f = np.ones((1, X.size))\n",
    "    m = np.arange(1, D + 1).reshape(D, 1)\n",
    "    y = np.power(X, m)\n",
    "    # for d in range(1,D+1):\n",
    "    # \tF = np.concatenate((F,np.power(X,d)), axis = 0)\n",
    "    # F.shape = (D + 1, X.size)\n",
    "    F = np.concatenate((f, y), axis = 0)\n",
    "    ####################################################\n",
    "    ###                    End                       ###\n",
    "    ####################################################\n",
    "    assert F.shape == (D+1, X.size), \"Shape of F incorrect\"\n",
    "    return F\n",
    "\n",
    "def least_square_sol(F, y):\n",
    "    '''\n",
    "    Refer to eq. 5.19 in the text\n",
    "    Parameters:\n",
    "    ----------------------------------------------------\n",
    "    F: ndarray of shape (2D+1 or D+1 depends on what basis, P)\n",
    "    y: ndarray of shape (P, 1)\n",
    "    Returns:\n",
    "    ----------------------------------------------------\n",
    "    w: learned weighter vector of shape (2D+1, 1)\n",
    "\n",
    "    Hints:\n",
    "    ----------------------------------------------------\n",
    "    You may find \"np.linalg.pinv, np.dot\"  useful\n",
    "    '''\t\n",
    "    ####################################################\n",
    "    ###                  Your Code                   ###\n",
    "    ####################################################\n",
    "    w = np.dot(np.linalg.pinv(np.dot(F, F.T)), np.dot(F,y))\n",
    "\n",
    "    ####################################################\n",
    "    ###                    End                       ###\n",
    "    ####################################################\n",
    "    assert w.shape == (F.shape[0], 1), \"Shape of w incorrect\"\n",
    "    return w\n",
    "\n",
    "def mean_square_error(w, F, y):\n",
    "    '''\n",
    "    Refer to eq. 5.19 in the text\n",
    "    Parameters:\n",
    "    ----------------------------------------------------\n",
    "    w: learned weighter vector of shape (2D+1, 1)\n",
    "    F: ndarray of shape (2D+1, P)\n",
    "    y: ndarray of shape (P, 1)\n",
    "    Returns:\n",
    "    ----------------------------------------------------\n",
    "    mse: a scaler, mean square error of your learned model\n",
    "\n",
    "    Hints:\n",
    "    ----------------------------------------------------\n",
    "    You may find \"np.dot, np.mean\"  useful\n",
    "    '''\t\n",
    "    ####################################################\n",
    "    ###                  Your Code                   ###\n",
    "    ####################################################\n",
    "    mse = np.mean(np.dot((np.dot(F.T, w) - y).T, (np.dot(F.T, w) - y)))\n",
    "\n",
    "    # temp = np.power(np.dot(F.T,w) - y, 2)\n",
    "    # mse = np.mean(temp)\n",
    "\n",
    "    ####################################################\n",
    "    ###                    End                       ###\n",
    "    ####################################################\n",
    "    return mse\n",
    "\n",
    "def random_split(P, K):\n",
    "    '''\n",
    "    Return a list of K arrays, each of which are indices \n",
    "    of data point\n",
    "\n",
    "    Parameters:\n",
    "    ----------------------------------------------------\n",
    "    P: number of data points\n",
    "    K: number of folds\n",
    "    Returns:\n",
    "    ----------------------------------------------------\n",
    "    folds: a list of K arrays, each of which are position \n",
    "    indices of data point\n",
    "\n",
    "    Hints:\n",
    "    ----------------------------------------------------\n",
    "    You may find \"np.split, np.random.permutation, np.arange\" \n",
    "    useful\t\n",
    "    '''\n",
    "    ####################################################\n",
    "    ###                  Your Code                   ###\n",
    "    ####################################################\n",
    "    folds = np.arange(P)\n",
    "    folds = np.random.permutation(folds)\n",
    "    folds = np.split(folds, K)\n",
    "\n",
    "    ####################################################\n",
    "    ###                    End                       ###\n",
    "    ####################################################\n",
    "    assert len(folds) == K, 'Number of folds incorrect'\n",
    "    return folds\n",
    "\n",
    "def train_val_split(X, y, folds, fold_id):\n",
    "    '''\n",
    "    Split the data into training and validation sets\n",
    "    Parameters:\n",
    "    ----------------------------------------------------\n",
    "    X: ndarray of shape (1, P)\n",
    "    y: ndarray of shape (P, 1)\n",
    "    folds: a list of K arrays, each of which are indices \n",
    "    of data point\n",
    "    fold_id: the id of the fold you want to be validation set\n",
    "    Returns:\n",
    "    ----------------------------------------------------\n",
    "    X_train: training set of X\n",
    "    y_train: training label\n",
    "    X_val: validation set of X\n",
    "    y_val: validation label\n",
    "    '''\n",
    "    ####################################################\n",
    "    ###                  Your Code                   ###\n",
    "    ####################################################\n",
    "    X_val = X.iloc[folds[fold_id]]\n",
    "    X_val = X_val.values\n",
    "    X_val.shape = (1, X_val.size)\n",
    "    y_val = y[folds[fold_id]]\n",
    "    y_val = y_val.values\n",
    "    y_val.shape = (y_val.size, 1)\n",
    "\n",
    "    X_train = np.delete(X.values, folds[fold_id])\n",
    "    X_train.shape = (1, X_train.size)\n",
    "    y_train = np.delete(y.values, folds[fold_id])\n",
    "    y_train.shape = (y_train.size, 1)\n",
    "\n",
    "    ####################################################\n",
    "    ###                    End                       ###\n",
    "    ####################################################\n",
    "    assert y_val.size + y_train.size == y.size, 'Split incorrect'\n",
    "    return X_train, y_train, X_val, y_val\n",
    "\n",
    "def make_plot(D, MSE_train, MSE_val):\n",
    "    plt.figure()\n",
    "    train, = plt.plot(D, MSE_train, 'yv--')\n",
    "    val, = plt.plot(D, MSE_val, 'bv--')\n",
    "    plt.legend(handles=[train, val], labels=['training_error', 'validation error'], loc='center left', bbox_to_anchor=(1, 0.5))\n",
    "    plt.xlabel('Degree of Fourier basis')\n",
    "    plt.ylabel('Error in log scale')\n",
    "    plt.yscale('log')\n",
    "    plt.show()"
   ]
  },
  {
   "cell_type": "code",
   "execution_count": 8,
   "metadata": {
    "collapsed": true
   },
   "outputs": [],
   "source": [
    "def read_data(filename):\n",
    "    assert X.shape == (1, data[:, 0].size), \"Shape of X incorrect\"\n",
    "    assert y.shape == (data[:,-1].size, 1), \"Shape of y incorrect\"\n",
    "    return X, y"
   ]
  },
  {
   "cell_type": "code",
   "execution_count": 9,
   "metadata": {
    "collapsed": false
   },
   "outputs": [],
   "source": [
    "import pandas as pd\n",
    "data = pd.read_csv('wavy_data.csv', names=['x','y'])"
   ]
  },
  {
   "cell_type": "code",
   "execution_count": 10,
   "metadata": {
    "collapsed": false
   },
   "outputs": [],
   "source": [
    "num_fold, num_degree = 3, 8\n",
    "folds = random_split(P=data['y'].size, K=num_fold)"
   ]
  },
  {
   "cell_type": "code",
   "execution_count": 11,
   "metadata": {
    "collapsed": false
   },
   "outputs": [],
   "source": [
    "X_train, y_train, X_val, y_val = train_val_split(data['x'], data['y'], folds, fold_id=0)"
   ]
  },
  {
   "cell_type": "code",
   "execution_count": 12,
   "metadata": {
    "collapsed": false
   },
   "outputs": [
    {
     "name": "stdout",
     "output_type": "stream",
     "text": [
      "The best degree of Fourier basis, in terms of validation error, is 7\n"
     ]
    },
    {
     "data": {
      "image/png": "[encoded data removed]",
      "text/plain": [
       "<Figure size 432x288 with 1 Axes>"
      ]
     },
     "metadata": {},
     "output_type": "display_data"
    }
   ],
   "source": [
    "MSE_train, MSE_val = [], []\n",
    "D = np.arange(1, num_degree+1)\n",
    "for d in D:\n",
    "    F_train = fourier_basis(X_train, D=d)\n",
    "    F_val = fourier_basis(X_val, D=d)\n",
    "    w = least_square_sol(F_train, y_train)\n",
    "    MSE_train.append(mean_square_error(w, F_train, y_train))\n",
    "    MSE_val.append(mean_square_error(w, F_val, y_val))\n",
    "#     make_plot(D, MSE_train, MSE_val)\n",
    "print 'The best degree of Fourier basis, in terms of validation error, is %d' % (MSE_val.index(min(MSE_val))+1)\n",
    "make_plot(D, MSE_train, MSE_val)"
   ]
  },
  {
   "cell_type": "markdown",
   "metadata": {},
   "source": [
    "# 5_12"
   ]
  },
  {
   "cell_type": "code",
   "execution_count": 14,
   "metadata": {
    "collapsed": false,
    "scrolled": false
   },
   "outputs": [
    {
     "name": "stdout",
     "output_type": "stream",
     "text": [
      "The best degree of polynomial basis, in terms of validation error, is 2\n"
     ]
    },
    {
     "data": {
      "image/png": "[encoded data removed]",
      "text/plain": [
       "<Figure size 432x288 with 1 Axes>"
      ]
     },
     "metadata": {},
     "output_type": "display_data"
    }
   ],
   "source": [
    "data = pd.read_csv('galileo_ramp_data.csv',names=['x','y'])\n",
    "X=data['x']\n",
    "y=data['y']\n",
    "num_fold, num_degree = 6, 6\n",
    "folds = random_split(P=y.size, K=num_fold)\n",
    "\n",
    "MSE_train, MSE_val = [0]*num_degree, [0]*num_degree\n",
    "D = np.arange(1, num_degree+1)\n",
    "for f in xrange(num_fold):\n",
    "    X_train, y_train, X_val, y_val = train_val_split(X, y, folds, fold_id=f)\n",
    "    for i, d in enumerate(D):\n",
    "        F_train = poly_basis(X_train, D=d)\n",
    "        F_val = poly_basis(X_val, D=d)\n",
    "        w = least_square_sol(F_train, y_train)\n",
    "        MSE_train[i] += mean_square_error(w, F_train, y_train)/num_fold\n",
    "        MSE_val[i] += mean_square_error(w, F_val, y_val)/num_fold\n",
    "\n",
    "print 'The best degree of polynomial basis, in terms of validation error, is %d' % (MSE_val.index(min(MSE_val))+1)\n",
    "\n",
    "make_plot(D, MSE_train, MSE_val)"
   ]
  },
  {
   "cell_type": "code",
   "execution_count": null,
   "metadata": {
    "collapsed": true
   },
   "outputs": [],
   "source": []
  },
  {
   "cell_type": "code",
   "execution_count": null,
   "metadata": {
    "collapsed": true
   },
   "outputs": [],
   "source": []
  },
  {
   "cell_type": "code",
   "execution_count": null,
   "metadata": {
    "collapsed": true
   },
   "outputs": [],
   "source": []
  }
 ],
 "metadata": {
  "anaconda-cloud": {},
  "kernelspec": {
   "display_name": "Python 2",
   "language": "python",
   "name": "python2"
  },
  "language_info": {
   "codemirror_mode": {
    "name": "ipython",
    "version": 2
   },
   "file_extension": ".py",
   "mimetype": "text/x-python",
   "name": "python",
   "nbconvert_exporter": "python",
   "pygments_lexer": "ipython2",
   "version": "2.7.10"
  }
 },
 "nbformat": 4,
 "nbformat_minor": 1
}
